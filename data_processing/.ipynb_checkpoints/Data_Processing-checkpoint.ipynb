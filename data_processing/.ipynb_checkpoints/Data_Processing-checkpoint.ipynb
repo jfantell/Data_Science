{
 "cells": [
  {
   "cell_type": "code",
   "execution_count": 23,
   "metadata": {},
   "outputs": [],
   "source": [
    "import sys\n",
    "import numpy as np\n",
    "import pandas as pd\n",
    "import os\n",
    "import json\n",
    "from functools import reduce\n",
    "from datetime import datetime\n",
    "from pandas.io.json import json_normalize\n",
    "from itertools import chain, starmap"
   ]
  },
  {
   "cell_type": "markdown",
   "metadata": {},
   "source": [
    "## Extract and Clean Crime Data"
   ]
  },
  {
   "cell_type": "code",
   "execution_count": 2,
   "metadata": {},
   "outputs": [],
   "source": [
    "# Define directories\n",
    "CRIME_RECORDS_DIR = '../crime_data'\n",
    "CRIME_DATA_DF_LIST = []\n",
    "WEATHER_DATA_DIR = '../weather_data'"
   ]
  },
  {
   "cell_type": "code",
   "execution_count": 3,
   "metadata": {},
   "outputs": [],
   "source": [
    "# Open each file, add the crime records to a list: CRIME_DATA_DF_LIST\n",
    "def preprocess_file(file):\n",
    "    with open(\"{}/{}\".format(CRIME_RECORDS_DIR,file), 'r') as f:\n",
    "        data = f.read()\n",
    "    json_data = json.loads(json.loads(data))['dataEvents'] #returns list of crime records\n",
    "    if(len(json_data) > 0):  \n",
    "        tmp_df = pd.DataFrame(json_data)\n",
    "        CRIME_DATA_DF_LIST.append(tmp_df)"
   ]
  },
  {
   "cell_type": "code",
   "execution_count": 4,
   "metadata": {},
   "outputs": [],
   "source": [
    "# Iterate through all files in crime directory\n",
    "for file in os.listdir(CRIME_RECORDS_DIR):\n",
    "    if(file.endswith(\".json\")):\n",
    "        # Preprocess file\n",
    "        preprocess_file(file)"
   ]
  },
  {
   "cell_type": "code",
   "execution_count": 5,
   "metadata": {},
   "outputs": [],
   "source": [
    "crime_df = pd.concat(CRIME_DATA_DF_LIST)"
   ]
  },
  {
   "cell_type": "code",
   "execution_count": 6,
   "metadata": {
    "scrolled": true
   },
   "outputs": [],
   "source": [
    "column_mapping = {\"view34\":\"Incident_ID\", \"view35\":\"Crime\",\"view36\":\"Location\",\"view62\":\"Date_Time\",\"view84\":\"Agency\",\"view81\":\"Longitude\",\"view82\":\"Latitude\",\"view85\":\"Accuracy\",\"view96\":\"Address\"}\n",
    "crime_df.rename(columns=column_mapping,inplace=True)\n",
    "crime_df.drop(columns=['view86','view174','view177','view182','view175'],inplace=True)"
   ]
  },
  {
   "cell_type": "code",
   "execution_count": 7,
   "metadata": {},
   "outputs": [],
   "source": [
    "# # UNIT TESTING: DateTime to Unix Timestamp\n",
    "# # Source: https://docs.python.org/2/library/datetime.html#strftime-and-strptime-behavior\n",
    "# s = \"Mar 28, 2013 3:33 PM\"\n",
    "# d = datetime.strptime(s, '%b %d, %Y %I:%M %p')\n",
    "# print(int(d.timestamp()))"
   ]
  },
  {
   "cell_type": "code",
   "execution_count": 9,
   "metadata": {},
   "outputs": [
    {
     "data": {
      "text/plain": [
       "0     1364499180\n",
       "1     1364410800\n",
       "2     1364400600\n",
       "3     1364326200\n",
       "4     1364305800\n",
       "         ...    \n",
       "40    1531209600\n",
       "41    1530756960\n",
       "42    1530726300\n",
       "43    1530724980\n",
       "44    1530724920\n",
       "Name: Date_Time_Unix, Length: 3810, dtype: int64"
      ]
     },
     "execution_count": 9,
     "metadata": {},
     "output_type": "execute_result"
    }
   ],
   "source": [
    "# Add extra date column (where date is a Unix Timestamp)\n",
    "crime_df['Date_Time_Unix'] = crime_df['Date_Time']\n",
    "crime_df['Date_Time_Unix'].apply(lambda x: int(datetime.strptime(x, '%b %d, %Y %I:%M %p').timestamp()))"
   ]
  },
  {
   "cell_type": "markdown",
   "metadata": {},
   "source": [
    "## Add Weather Data"
   ]
  },
  {
   "cell_type": "code",
   "execution_count": 38,
   "metadata": {},
   "outputs": [],
   "source": [
    "# Source https://towardsdatascience.com/flattening-json-objects-in-python-f5343c794b10\n",
    "def flatten_json(y):\n",
    "    out = {}\n",
    "    def flatten(x, name=''):\n",
    "        if type(x) is dict:\n",
    "            for a in x:\n",
    "                flatten(x[a], name + a + '_')\n",
    "        elif type(x) is list:\n",
    "            i = 0\n",
    "            for a in x:\n",
    "                flatten(a, name + str(i) + '_')\n",
    "                i += 1\n",
    "        else:\n",
    "            out[name[:-1]] = x\n",
    "    flatten(y)\n",
    "    return out"
   ]
  },
  {
   "cell_type": "code",
   "execution_count": 51,
   "metadata": {},
   "outputs": [],
   "source": [
    "def preprocess_file(file):\n",
    "    records_dict_list = []\n",
    "    with open(\"{}/{}\".format(WEATHER_DATA_DIR,file), 'r') as f:\n",
    "        data = f.read()\n",
    "    json_data = json.loads(data)\n",
    "    for record in json_data:\n",
    "        tmp_df = flatten_json(record)\n",
    "        records_dict_list.append(tmp_df)\n",
    "    # Create dataframe of all dict records\n",
    "    \n",
    "    print(len(records_dict_list))"
   ]
  },
  {
   "cell_type": "code",
   "execution_count": 52,
   "metadata": {},
   "outputs": [
    {
     "name": "stdout",
     "output_type": "stream",
     "text": [
      "52583\n"
     ]
    }
   ],
   "source": [
    "preprocess_file('weather_troy.json')"
   ]
  },
  {
   "cell_type": "code",
   "execution_count": null,
   "metadata": {},
   "outputs": [],
   "source": []
  }
 ],
 "metadata": {
  "kernelspec": {
   "display_name": "Python 3",
   "language": "python",
   "name": "python3"
  },
  "language_info": {
   "codemirror_mode": {
    "name": "ipython",
    "version": 3
   },
   "file_extension": ".py",
   "mimetype": "text/x-python",
   "name": "python",
   "nbconvert_exporter": "python",
   "pygments_lexer": "ipython3",
   "version": "3.6.9"
  }
 },
 "nbformat": 4,
 "nbformat_minor": 2
}
